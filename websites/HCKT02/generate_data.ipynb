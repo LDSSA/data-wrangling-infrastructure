{
 "cells": [
  {
   "cell_type": "code",
   "execution_count": 154,
   "id": "6d97705a",
   "metadata": {},
   "outputs": [],
   "source": [
    "import pandas as pd"
   ]
  },
  {
   "cell_type": "code",
   "execution_count": 155,
   "id": "33d0d8d8",
   "metadata": {},
   "outputs": [],
   "source": [
    "train_data = pd.read_csv(\"../data/train.csv\", index_col=0).reset_index(drop=True)"
   ]
  },
  {
   "cell_type": "code",
   "execution_count": 156,
   "id": "b7ea06c2",
   "metadata": {},
   "outputs": [],
   "source": [
    "cols = list(train_data.columns)[0:38] + [\"CLASS_LABEL\"]\n",
    "website_data = train_data.loc[2666:5332, cols].reset_index(drop=True)"
   ]
  },
  {
   "cell_type": "code",
   "execution_count": 158,
   "id": "d98e3d71",
   "metadata": {},
   "outputs": [],
   "source": [
    "# Extracting some of the IDs and putting them in a separate tag to be scraped\n",
    "website_data_missing_ids = pd.DataFrame(website_data.loc[0:999, 'id'])\n",
    "website_data.loc[0:999, 'id'] = None\n",
    "website_data.id = website_data.id.astype(\"Int64\")  # to allow int + nulls"
   ]
  },
  {
   "cell_type": "code",
   "execution_count": 159,
   "id": "b32a5702",
   "metadata": {},
   "outputs": [],
   "source": [
    "# Adding 1000 rows with ID 999999 that are test rows. The website will inform the students to ignore these rows.\n",
    "import random\n",
    "\n",
    "fake_data = website_data.loc[0:999].copy()\n",
    "for i in range(fake_data.shape[0]):\n",
    "    for j in range(fake_data.shape[1]):\n",
    "        fake_data.iloc[i, j] = random.randint(0, 10)\n",
    "\n",
    "fake_data.loc[:, 'id'] = 999999\n",
    "        \n",
    "website_data = pd.concat([website_data, fake_data])"
   ]
  },
  {
   "cell_type": "code",
   "execution_count": 161,
   "id": "22259c7a",
   "metadata": {},
   "outputs": [],
   "source": [
    "data = website_data.to_html(index=False)\n",
    "missing_ids = website_data_missing_ids.to_html(index=False)"
   ]
  },
  {
   "cell_type": "code",
   "execution_count": 177,
   "id": "b5093715",
   "metadata": {},
   "outputs": [],
   "source": [
    "html_str = f\"\"\"\n",
    "<title>Hackathon 2 Web Data</title>\n",
    "<head>\n",
    "    <style>\n",
    "        p.title {{\n",
    "          font-size: 40px;\n",
    "        }}\n",
    "        p.section {{\n",
    "          font-size: 25px;\n",
    "        }}\n",
    "    </style>\n",
    "    </head>\n",
    "<body>\n",
    "    <div class=\"info\">\n",
    "        <p class=\"title\">Hackathon 2 Web Data</title>\n",
    "        <p>Hello! You'll find some useful data for the hackathon here.</p>\n",
    "        <p>Some elements of the ID column will be missing (&ltNA&gt) from the main table. You'll have to scrape them from somewhere else in this page.</p>\n",
    "        <p>Also, ignore the rows with ID 999999... they're test rows which you should not use in your final model!</p>\n",
    "    </div>\n",
    "    \n",
    "    <div class=\"main-data\">\n",
    "        <p class=\"section\">Data</p> \n",
    "        {data}\n",
    "    </div>\n",
    "    \n",
    "    <div class=\"missing-ids\">\n",
    "        <p class=\"section\">Missing IDs</p> \n",
    "        {missing_ids}\n",
    "    </div>\n",
    "</body>\n",
    "\"\"\""
   ]
  },
  {
   "cell_type": "code",
   "execution_count": 178,
   "id": "0a5352f3",
   "metadata": {},
   "outputs": [],
   "source": [
    "with open(\"website.html\", 'w') as f:\n",
    "    f.write(html_str)"
   ]
  }
 ],
 "metadata": {
  "kernelspec": {
   "display_name": "Python 3",
   "language": "python",
   "name": "python3"
  },
  "language_info": {
   "codemirror_mode": {
    "name": "ipython",
    "version": 3
   },
   "file_extension": ".py",
   "mimetype": "text/x-python",
   "name": "python",
   "nbconvert_exporter": "python",
   "pygments_lexer": "ipython3",
   "version": "3.7.11"
  }
 },
 "nbformat": 4,
 "nbformat_minor": 5
}
